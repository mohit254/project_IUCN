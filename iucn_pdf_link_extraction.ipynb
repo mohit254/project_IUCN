{
  "cells": [
    {
      "cell_type": "markdown",
      "metadata": {
        "id": "view-in-github",
        "colab_type": "text"
      },
      "source": [
        "<a href=\"https://colab.research.google.com/github/poudelmohit/project_IUCN/blob/main/iucn_pdf_link_extraction.ipynb\" target=\"_parent\"><img src=\"https://colab.research.google.com/assets/colab-badge.svg\" alt=\"Open In Colab\"/></a>"
      ]
    },
    {
      "cell_type": "markdown",
      "metadata": {
        "id": "poJx-Kbm4tTF"
      },
      "source": [
        "# Steps (Workflow):\n",
        "\n",
        "\n",
        "1.   Mouting directory and installing required libraries\n",
        "2.   Obtain a list of mammals\n",
        "3.   obtain IUCN data download link for each of those species\n",
        "4.   Download IUCN-report of each species using the download link obtained\n",
        "5.   extract IUCN information into a dataframe by reading pdfs\n",
        "6.   genomic approaches"
      ]
    },
    {
      "cell_type": "markdown",
      "metadata": {
        "id": "xyKUA1F7ea0N"
      },
      "source": [
        "# 1.1 Mounting Directory:\n",
        "\n",
        "\n"
      ]
    },
    {
      "cell_type": "code",
      "execution_count": null,
      "metadata": {
        "colab": {
          "base_uri": "https://localhost:8080/"
        },
        "id": "IW3MSOBkeU2E",
        "outputId": "751f0ef0-36f6-4bc9-ff94-029745f9a959"
      },
      "outputs": [
        {
          "name": "stdout",
          "output_type": "stream",
          "text": [
            "Mounted at /content/drive\n"
          ]
        }
      ],
      "source": [
        "from google.colab import drive\n",
        "MOUNTPOINT = '/content/drive'\n",
        "drive.mount(MOUNTPOINT)\n",
        "\n",
        "import os\n",
        "directory = os.path.join(MOUNTPOINT,'MyDrive','Colab Notebooks','LAB','project_IUCN')\n",
        "os.chdir(directory)"
      ]
    },
    {
      "cell_type": "code",
      "execution_count": null,
      "metadata": {
        "colab": {
          "base_uri": "https://localhost:8080/"
        },
        "id": "clLcoTKv5Y09",
        "outputId": "0e9a4628-0dff-4c6b-8444-37887118b8c4"
      },
      "outputs": [
        {
          "name": "stdout",
          "output_type": "stream",
          "text": [
            "all_download_links.csv\tdata_extraction.py  iucn_pdf_link_extraction.ipynb  mammals_list.txt\n"
          ]
        }
      ],
      "source": [
        "! ls"
      ]
    },
    {
      "cell_type": "markdown",
      "metadata": {
        "id": "tnc3bv1K5oBF"
      },
      "source": [
        "# 2. Obtaining the list of mammals from Mammal Diversity Database:"
      ]
    },
    {
      "cell_type": "code",
      "execution_count": null,
      "metadata": {
        "id": "7gw_12y75l57"
      },
      "outputs": [],
      "source": [
        "\n",
        "url =  'https://www.mammaldiversity.org/explore.html'\n",
        "mammal_database = pd.read_html(url)[0]\n",
        "\n",
        "mammal_database['scientific_name'] = mammal_database['Genus'] + \" \" + mammal_database[\"Species\"]\n",
        "\n",
        "# Convert DataFrame column to a list\n",
        "mammals_list = mammal_database['scientific_name'].to_list()\n",
        "\n",
        "# Correct the spelling error in the list\n",
        "mammals_list = [species.replace('Caluromysiops irruptus', 'Caluromysiops irrupta') for species in mammals_list]\n",
        "\n",
        "\n",
        "# Save to a text file, comma-separated\n",
        "with open('mammals_list.txt', 'w') as file:\n",
        "    file.write(','.join(mammals_list))"
      ]
    },
    {
      "cell_type": "markdown",
      "metadata": {
        "id": "v1PaZbti6Kv2"
      },
      "source": [
        "#### some issues here:\n",
        "##### a. this list have some incorrect species name (while comparing with IUCN site)\n",
        "###### b. this list has all names in a single line, which needs to be fixed while reading the file"
      ]
    },
    {
      "cell_type": "code",
      "execution_count": null,
      "metadata": {
        "colab": {
          "base_uri": "https://localhost:8080/"
        },
        "id": "IzDA7PIW8got",
        "outputId": "02f70adf-08b3-406c-c792-0dd0c0b0b38b"
      },
      "outputs": [
        {
          "name": "stdout",
          "output_type": "stream",
          "text": [
            "Total number of entries: 6753\n"
          ]
        }
      ],
      "source": [
        "# let's check the number of species we have:\n",
        "\n",
        "with open('mammals_list.txt', 'r') as file:\n",
        "    total_entries = sum(len(line.split(',')) for line in file)\n",
        "\n",
        "print(f\"Total number of entries: {total_entries}\")\n"
      ]
    },
    {
      "cell_type": "markdown",
      "metadata": {
        "id": "8IZzzoYW8rsd"
      },
      "source": [
        "#### 6753 entries are present currently."
      ]
    },
    {
      "cell_type": "markdown",
      "metadata": {
        "id": "Dy_QOg5i7LeG"
      },
      "source": [
        "# 3.1 Creating a function to obtain IUCN data download link:"
      ]
    },
    {
      "cell_type": "code",
      "execution_count": null,
      "metadata": {
        "id": "iZqR9gWf_nP-"
      },
      "outputs": [],
      "source": [
        "# ! pip install selenium\n",
        "# might require installation.\n",
        "\n",
        "from selenium import webdriver\n",
        "from selenium.webdriver.chrome.options import Options\n",
        "from selenium.webdriver.common.keys import Keys\n",
        "import time\n",
        "import pandas as pd\n",
        "\n",
        "def search_iucn_species(species_name):\n",
        "    \"\"\"\n",
        "    Searches for a species on the IUCN Red List website and retrieves the common name and a download link of the IUCN species assessment report pdf.\n",
        "\n",
        "    Args:\n",
        "        species_name (str): The name of the species to search for, preferentially scientific name.\n",
        "\n",
        "    Returns:\n",
        "        dict(A dictionary containing):\n",
        "            - \"scientific_name\": The input species name.\n",
        "            - \"common_name\": The headline text of the species page.\n",
        "            - \"download_link\": The URL of the first available download button, or None if no download buttons are found.\n",
        "    \"\"\"\n",
        "\n",
        "    # Set up Chrome options\n",
        "    chrome_options = Options()\n",
        "    chrome_options.add_argument(\"--headless\")\n",
        "    chrome_options.add_argument(\"--no-sandbox\")\n",
        "    chrome_options.add_argument(\"--disable-dev-shm-usage\")\n",
        "\n",
        "    # Initialize the WebDriver with Chrome options\n",
        "    driver = webdriver.Chrome(options=chrome_options)\n",
        "\n",
        "    try:\n",
        "        # Open the IUCN Red List website\n",
        "        driver.get(\"https://www.iucnredlist.org/\")\n",
        "\n",
        "        # Find the search box element using the class attribute\n",
        "        search_box = driver.find_element(\"css selector\", \"input.search.search--site\")\n",
        "\n",
        "        # Type the search query (species name) and hit Enter\n",
        "        search_box.send_keys(species_name)\n",
        "        search_box.send_keys(Keys.RETURN)\n",
        "\n",
        "        # Wait for the search results to load\n",
        "        time.sleep(1)\n",
        "\n",
        "        # Find and click on the first 'View' link with the class \"link--faux\"\n",
        "        view_link = driver.find_element(\"css selector\", \"a.link--faux\")\n",
        "        view_link.click()\n",
        "\n",
        "        # Wait for the species page to load after clicking the link\n",
        "        time.sleep(1)\n",
        "\n",
        "        # Find the h1 element with the class \"headline__title\"\n",
        "        headline = driver.find_element(\"css selector\", \"h1.headline__title\")\n",
        "        headline_text = headline.text\n",
        "\n",
        "        # Find and click the download button with the specified class\n",
        "        download_button = driver.find_element(\"name\", \"download_search_results\")\n",
        "        download_button.click()\n",
        "\n",
        "        # Wait for the download options to appear\n",
        "        time.sleep(1)\n",
        "\n",
        "        # Find all 'link--download' buttons\n",
        "        download_buttons = driver.find_elements(\"css selector\", \"a.link--download\")\n",
        "        if download_buttons:\n",
        "            # Get the href attribute of the first download button\n",
        "            first_href = download_buttons[0].get_attribute(\"href\")\n",
        "        else:\n",
        "            first_href = None\n",
        "            print(f\"No download buttons found for species: {species_name}\")\n",
        "\n",
        "        # Create a dictionary with the headline and first href\n",
        "        result = {\n",
        "            \"scientific_name\": species_name,\n",
        "            \"common_name\": headline_text,\n",
        "            \"download_link\": first_href\n",
        "        }\n",
        "        return result\n",
        "\n",
        "    except Exception as e:\n",
        "        # Print the error message and skip to the next species\n",
        "        print(f\"Error searching for species: {species_name}\")\n",
        "        return {\n",
        "            \"scientific_name\": species_name,\n",
        "            \"common_name\": None,\n",
        "            \"download_link\": None\n",
        "        }\n",
        "\n",
        "    finally:\n",
        "        # Close the browser\n",
        "        driver.quit()\n",
        "\n"
      ]
    },
    {
      "cell_type": "code",
      "execution_count": null,
      "metadata": {
        "colab": {
          "base_uri": "https://localhost:8080/"
        },
        "id": "-j1VQUGWjJFG",
        "outputId": "545cc21b-d420-4ac2-d6b0-9a8b49b342a4"
      },
      "outputs": [
        {
          "name": "stdout",
          "output_type": "stream",
          "text": [
            "{'scientific_name': 'Didelphis virginiana', 'common_name': 'Virginia Opossum', 'download_link': 'https://www.iucnredlist.org/species/pdf/22176259'}\n"
          ]
        }
      ],
      "source": [
        "# just a test:\n",
        "print(search_iucn_species(\"Didelphis virginiana\"))"
      ]
    },
    {
      "cell_type": "markdown",
      "metadata": {
        "id": "S2iSpLpb79QU"
      },
      "source": [
        "#### This function works well. Now, I need to iterate it over the list of mammals (or any species) I have, to get the download link of the IUCN data.\n",
        "\n",
        "#### Although, currently I have >6k entries, I will work with only ~1000 first, just to check the codes/pipelines.\n"
      ]
    },
    {
      "cell_type": "markdown",
      "metadata": {
        "id": "FtGXLF_y6wqw"
      },
      "source": [
        "# 3.2 Using the function to obtain the download links:"
      ]
    },
    {
      "cell_type": "code",
      "execution_count": null,
      "metadata": {
        "colab": {
          "background_save": true
        },
        "id": "FLXGaQJ405cj"
      },
      "outputs": [],
      "source": [
        "import pandas as pd\n",
        "\n",
        "# Read the single line from the file mammals_list\n",
        "with open('mammals_list.txt', 'r') as file:\n",
        "    # Read the single line and split into a list of species names using comma as the separator\n",
        "    mammals_list = file.readline().split(',')\n",
        "\n",
        "# Loop over each species and its index in the mammals_list\n",
        "for index, species in enumerate(mammals_list):\n",
        "    species = species.strip()  # Remove any leading/trailing whitespace\n",
        "    print(f\"Working on species: {species} (Position: {index + 1})\")\n",
        "\n",
        "    # Assuming search_iucn_species is a function that takes a species name and returns some result\n",
        "    result = search_iucn_species(species)\n",
        "\n",
        "    # Create a DataFrame for the current result\n",
        "    df_link = pd.DataFrame([result])\n",
        "\n",
        "    # Append the result to the CSV file (without header after the first write)\n",
        "    df_link.to_csv(\"all_download_links.csv\", mode='a', index=False, header=not index)\n"
      ]
    },
    {
      "cell_type": "markdown",
      "metadata": {
        "id": "6M6NK7iu9ZDU"
      },
      "source": [
        "#### Currently, >1000 species are iterated in the 'search_iucn_species()' function, and those are saved into: 'all_download_links.csv'"
      ]
    },
    {
      "cell_type": "markdown",
      "metadata": {
        "id": "_WNPldcZ9qCK"
      },
      "source": [
        "# 4. Download IUCN-reports from the dataframe:"
      ]
    },
    {
      "cell_type": "code",
      "execution_count": null,
      "metadata": {
        "id": "LivdmzCS9oJ-"
      },
      "outputs": [],
      "source": [
        "df_report_download_link = pd.read_csv('all_download_links.csv')\n",
        "df_report_download_link.columns = ['scientific_name','common_name','download_link']\n",
        "\n",
        "# deleting rows without download link:\n",
        "df_report_download_link = df_report_download_link[~df_report_download_link['download_link'].isnull()] # 146 rows have no download_links\n",
        "\n",
        "df_report_download_link = df_report_download_link.reset_index(drop=True)"
      ]
    },
    {
      "cell_type": "code",
      "execution_count": null,
      "metadata": {
        "id": "jxnxM3fW-rEo"
      },
      "outputs": [],
      "source": [
        "! mkdir iucn_reports"
      ]
    },
    {
      "cell_type": "code",
      "execution_count": null,
      "metadata": {
        "colab": {
          "background_save": true
        },
        "id": "-iSaZDCi_jDt"
      },
      "outputs": [],
      "source": [
        "for link in df_report_download_link['download_link']:\n",
        "     os.system(f\"wget -P iucn_reports {link}\")"
      ]
    },
    {
      "cell_type": "code",
      "execution_count": 27,
      "metadata": {
        "id": "5C8YONSMAWQN",
        "colab": {
          "base_uri": "https://localhost:8080/"
        },
        "outputId": "6ffb7423-2ac3-43d4-e5c1-c394cce2763b"
      },
      "outputs": [
        {
          "output_type": "stream",
          "name": "stdout",
          "text": [
            "906\n"
          ]
        }
      ],
      "source": [
        "! ls iucn_reports | wc -l"
      ]
    },
    {
      "cell_type": "markdown",
      "source": [
        "##### At this point, 906 pdfs have been downloaded"
      ],
      "metadata": {
        "id": "GVKkuVaqLTzU"
      }
    },
    {
      "cell_type": "markdown",
      "source": [
        "# 5. Obtaining IUCN-values from the pdfs:"
      ],
      "metadata": {
        "id": "ofY7lKjMLZ-h"
      }
    },
    {
      "cell_type": "code",
      "source": [
        "# ! pip install pdfplumber\n",
        "# import pdfplumber"
      ],
      "metadata": {
        "id": "qsoTKax-LY7F"
      },
      "execution_count": 50,
      "outputs": []
    },
    {
      "cell_type": "code",
      "source": [
        "# trying with a single pdf first:\n",
        "\n",
        "# Open the PDF file\n",
        "with pdfplumber.open('iucn_reports/229492631') as pdf:\n",
        "    text = ''\n",
        "\n",
        "    # Loop through all the pages\n",
        "    for page in pdf.pages:\n",
        "        text += page.extract_text()\n",
        "\n",
        "# processing the text:\n",
        "# Extract the fields using regular expressions\n",
        "scientific_name = re.search(r'Scientific Name:\\s*(.*)', text).group(1).strip()\n",
        "taxonomy = re.search(r'^Animalia.*', text, re.MULTILINE).group(0).strip()\n",
        "red_list_category = re.search(r'Red List Category & Criteria:\\s*(.*)', text).group(1).strip()\n",
        "date_assessed = re.search(r'Date Assessed:\\s*(.*)', text).group(1).strip()\n",
        "year_published = re.search(r'Year Published:\\s*(.*)', text).group(1).strip()\n",
        "current_population_trend = re.search(r'Current Population Trend:\\s*(.*)', text).group(1).strip()\n",
        "systems = re.search(r'Systems:\\s*(.*)', text).group(1).strip()\n",
        "\n",
        "\n",
        "\n",
        "range_description = re.search(r'Range Description:\\s*(.*?)(?=\\n[A-Z])', text, re.DOTALL).group(1).strip()\n",
        "habitat_and_ecology = re.search(r'Habitat and Ecology\\s*(.*?)(?=Threats)', text, re.DOTALL).group(1).strip()\n",
        "threats = re.search(r'Threats\\s*(.*?)(?=\\nConservation Actions)', text, re.DOTALL).group(1).strip()\n",
        "\n",
        "\n",
        "\n",
        "# Print the extracted fields\n",
        "print(f\"Scientific Name: {scientific_name}\")\n",
        "print(f\"Taxonomy: {taxonomy}\")\n",
        "print(f\"Red List Category & Criteria: {red_list_category}\")\n",
        "print(f\"Date Assessed: {date_assessed}\")\n",
        "print(f\"Year Published: {year_published}\")\n",
        "print(f\"Current Population Trend: {current_population_trend}\")\n",
        "print(f\"Systems: {systems}\")\n",
        "print(f\"Range Description: {range_description}\")\n",
        "\n",
        "print(f\"Habitat and Ecology: {habitat_and_ecology}\")\n",
        "print(f\"Threats: {threats}\")\n",
        "\n",
        "\n"
      ],
      "metadata": {
        "colab": {
          "base_uri": "https://localhost:8080/"
        },
        "id": "9ICpXudxM7hJ",
        "outputId": "2331ae27-5312-4169-ef18-cc2ac7ffcb55"
      },
      "execution_count": 49,
      "outputs": [
        {
          "output_type": "stream",
          "name": "stdout",
          "text": [
            "Scientific Name: Tupaia tana Raffles, 1821\n",
            "Taxonomy: Animalia Chordata Mammalia Scandentia Tupaiidae\n",
            "Red List Category & Criteria: Least Concern ver 3.1\n",
            "Date Assessed: November 16, 2022\n",
            "Year Published: 2023\n",
            "Current Population Trend: Decreasing\n",
            "Systems: Terrestrial\n",
            "Range Description: This species is found in Malaysia (Sabah, Sarawak, Banggi), Brunei and Indonesia (Kalimantan, Sumatra,\n",
            "the Batu Islands, Lingga Islands, Bangka, Tambelan, Serasan) (Helgen 2005). Probably occurs to 1,500 m,\n",
            "but more common up to 1,200 m (K.H. Han pers. comm.).\n",
            "Habitat and Ecology: (see Appendix for additional information)\n",
            "This species is found mainly in lowland forest, but is also fairly common in fruit orchards and secondary\n",
            "forest. Wells (2005) found that in selectively logged forest with a dense understorey, this species\n",
            "increases significantly.\n",
            "Systems: Terrestrial\n",
            "Threats: (see Appendix for additional information)\n",
            "Although this species is found in fruit orchards, it is not present in unforested agricultural areas; thus\n",
            "deforestation remains a threat (K. H. Han pers. comm.).\n"
          ]
        }
      ]
    },
    {
      "cell_type": "code",
      "source": [
        "print(text)"
      ],
      "metadata": {
        "colab": {
          "base_uri": "https://localhost:8080/"
        },
        "id": "H7DfYHv5PXWJ",
        "outputId": "7d7f251b-8aac-4af1-dbd7-0cad094fffea"
      },
      "execution_count": 55,
      "outputs": [
        {
          "output_type": "stream",
          "name": "stdout",
          "text": [
            "The IUCN Red List of Threatened Species™\n",
            "ISSN 2307-8235 (online)\n",
            "IUCN 2023: T41501A229492631\n",
            "Scope(s): Global\n",
            "Language: English\n",
            "Tupaia tana,\n",
            "Large Treeshrew\n",
            "Assessment by: Juman, M.M. & Sargis, E.J.\n",
            "View on www.iucnredlist.org\n",
            "Citation: Juman, M.M. & Sargis, E.J. 2023. Tupaia tana. The IUCN Red List of Threatened Species\n",
            "2023: e.T41501A229492631. https://dx.doi.org/10.2305/IUCN.UK.2023-\n",
            "1.RLTS.T41501A229492631.en\n",
            "Copyright: © 2023 International Union for Conservation of Nature and Natural Resources\n",
            "Reproduction of this publication for educational or other non-commercial purposes is authorized without prior written\n",
            "permission from the copyright holder provided the source is fully acknowledged.\n",
            "Reproduction of this publication for resale, reposting or other commercial purposes is prohibited without prior written\n",
            "permission from the copyright holder. For further details see Terms of Use.\n",
            "The IUCN Red List of Threatened Species™ is produced and managed by the IUCN Global Species Programme, the IUCN\n",
            "Species Survival Commission (SSC) and The IUCN Red List Partnership. The IUCN Red List Partners are: ABQ BioPark;\n",
            "Arizona State University; BirdLife International; Botanic Gardens Conservation International; Conservation International;\n",
            "Missouri Botanical Garden; NatureServe; Re:wild; Royal Botanic Gardens, Kew; Sapienza University of Rome; Texas A&M\n",
            "University; and Zoological Society of London.\n",
            "If you see any errors or have any questions or suggestions on what is shown in this document, please provide us with\n",
            "feedback so that we can correct or extend the information provided.\n",
            "THE IUCN RED LIST OF THREATENED SPECIES™Taxonomy\n",
            "Kingdom Phylum Class Order Family\n",
            "Animalia Chordata Mammalia Scandentia Tupaiidae\n",
            "Scientific Name: Tupaia tana Raffles, 1821\n",
            "Synonym(s):\n",
            "• Cladobates speciosus Wagner, 1841\n",
            "• Tana cervicalis ssp. masae Lyon, 1913\n",
            "• Tana lingae Lyon, 1913\n",
            "• Tana paitana Lyon, 1913\n",
            "• Tana tana ssp. besara Lyon, 1913\n",
            "• Tana tana ssp. tuancus Lyon, 1913\n",
            "• Tana tana ssp. utara Lyon, 1913\n",
            "• Tana tana ssp. nainggolani Sody, 1936\n",
            "• Tana tana ssp. griswoldi Coolidge, 1938\n",
            "• Tupaia bunoae Miller, 1900\n",
            "• Tupaia cervicalis Miller, 1903\n",
            "• Tupaia sirhassenensis Miller, 1901\n",
            "• Tupaia tana ssp. chrysura Günther, 1876\n",
            "• Tupaia tana ssp. nitida Chasen, 1933\n",
            "• Tupaia tana ssp. banguei Chasen and Kloss, 1932\n",
            "• Tupaia tana ssp. kelabit Davis, 1958\n",
            "• Tupaia tana ssp. kretami Davis, 1962\n",
            "Common Name(s):\n",
            "• English: Large Treeshrew, Large Tree Shrew\n",
            "Taxonomic Source(s):\n",
            "Mammal Diversity Database. 2023. Mammal Diversity Database (Version 1.11, released 15 April 2023).\n",
            "Zenodo. https://doi.org/10.5281/zenodo.7830771. American Society of Mammalogists (ASM). Available\n",
            "at: www.mammaldiversity.org. (Accessed: 7 June 2023).\n",
            "Taxonomic Notes:\n",
            "Described as Tupaia tana Raffles, 1821, from Bencoolen, Sumatra. This taxon has 17 synonyms (Helgen\n",
            "2005). Two subspecies are currently recognized: T. t. tana from Sumatra and its offshore islands and T. t.\n",
            "speciosa from Borneo and its offshore islands (Juman et al. 2021).\n",
            "Assessment Information\n",
            "Red List Category & Criteria: Least Concern ver 3.1\n",
            "Year Published: 2023\n",
            "Date Assessed: November 16, 2022\n",
            "Justification:\n",
            "The Large Treeshrew (Tupaia tana) is assessed as Least Concern as the species is relatively widespread\n",
            "© The IUCN Red List of Threatened Species: Tupaia tana – published in 2023. 1\n",
            "https://dx.doi.org/10.2305/IUCN.UK.2023-1.RLTS.T41501A229492631.enand common with a large extent of occurrence, and although it may be declining in parts of its range\n",
            "(such as Sumatra), these declines are not believed to be at a rate that would warrant listing in a\n",
            "threatened category.\n",
            "Previously Published Red List Assessments\n",
            "2016 – Least Concern (LC)\n",
            "2008 – Least Concern (LC)\n",
            "1996 – Lower Risk/least concern (LR/LC)\n",
            "Geographic Range\n",
            "Range Description:\n",
            "This species is found in Malaysia (Sabah, Sarawak, Banggi), Brunei and Indonesia (Kalimantan, Sumatra,\n",
            "the Batu Islands, Lingga Islands, Bangka, Tambelan, Serasan) (Helgen 2005). Probably occurs to 1,500 m,\n",
            "but more common up to 1,200 m (K.H. Han pers. comm.).\n",
            "Country Occurrence:\n",
            "Native, Extant (resident): Brunei Darussalam; Indonesia (Kalimantan, Sumatera); Malaysia (Sabah,\n",
            "Sarawak)\n",
            "© The IUCN Red List of Threatened Species: Tupaia tana – published in 2023. 2\n",
            "https://dx.doi.org/10.2305/IUCN.UK.2023-1.RLTS.T41501A229492631.enDistribution Map\n",
            "© The IUCN Red List of Threatened Species: Tupaia tana – published in 2023. 3\n",
            "https://dx.doi.org/10.2305/IUCN.UK.2023-1.RLTS.T41501A229492631.enPopulation\n",
            "It is common on Borneo (Han et al. 2000), but there is little information from Sumatra where they\n",
            "almost certainly have undergone declines (K. H. Han pers. comm).\n",
            "Current Population Trend: Decreasing\n",
            "Habitat and Ecology\n",
            "(see Appendix for additional information)\n",
            "This species is found mainly in lowland forest, but is also fairly common in fruit orchards and secondary\n",
            "forest. Wells (2005) found that in selectively logged forest with a dense understorey, this species\n",
            "increases significantly.\n",
            "Systems: Terrestrial\n",
            "Threats\n",
            "(see Appendix for additional information)\n",
            "Although this species is found in fruit orchards, it is not present in unforested agricultural areas; thus\n",
            "deforestation remains a threat (K. H. Han pers. comm.).\n",
            "Conservation Actions\n",
            "(see Appendix for additional information)\n",
            "This species is very common in the older forests of protected areas on Borneo (K. H. Han pers. comm.).\n",
            "It is listed on CITES Appendix II. The oil palm industry drives deforestation on both Borneo and Sumatra,\n",
            "and the latter is affected equally by pulp wood production (Miettinen et al. 2016). Of the two islands,\n",
            "Sumatra experiences higher rates of primary forest loss (Margono et al. 2014). For these reasons, the\n",
            "two subspecies (T. t. tana and T. t. speciosa) may require separate conservation interventions.\n",
            "Credits\n",
            "Assessor(s): Juman, M.M. & Sargis, E.J.\n",
            "Reviewer(s): Kennerley, R.\n",
            "Contributor(s): Stuebing, R., Han, K. & Gazzard, A.\n",
            "Authority/Authorities: IUCN SSC Small Mammal Specialist Group\n",
            "© The IUCN Red List of Threatened Species: Tupaia tana – published in 2023. 4\n",
            "https://dx.doi.org/10.2305/IUCN.UK.2023-1.RLTS.T41501A229492631.enBibliography\n",
            "Han, K.H., Sheldon, F.H. and Stuebing, R.S. 2000. Interspecific relationships and biogeography of some\n",
            "Bornean tree shrews (Tupaiidae: Tupaia), based on DNA hybridization and morphometric comparisons.\n",
            "Biological Journal of the Linnean Society 70: 1-14.\n",
            "Helgen, K.M. 2005. Order Scandentia. In: D.E. Wilson and D.A. Reeder (eds), Mammal Species of the\n",
            "World: a Taxonomic and Geographic Reference, pp. 104-109. Johns Hopkins University Press, Baltimore,\n",
            "Maryland, USA.\n",
            "IUCN. 2023. The IUCN Red List of Threatened Species. Version 2023-1. Available at: www.iucnredlist.org.\n",
            "(Accessed: 11 December 2023).\n",
            "Juman, M.M, Woodman, N., Olson, L.E. and Sargis, E.J. 2021. Ecogeographic variation and taxonomic\n",
            "boundaries in Large Treeshrews (Scandentia, Tupaiidae: Tupaia tana Raffles, 1821) from Southeast Asia.\n",
            "Journal of Mammalogy 102: 1054-1066.\n",
            "Margono, B.A., Potapov, P.V., Turubanova, S.A., Stolle, F., Hansen, M.C. and Stole, F. 2014. Primary forest\n",
            "cover loss in Indonesia over 2000–2012. Nature Climate Change 4: 730–735.\n",
            "Medway, L. 1977. Mammals of Borneo: Field keys and an annotated checklist. Monographs of the\n",
            "Malaysian Branch of the Royal Asiatic Society, Kuala Lumpur, Malaysia.\n",
            "Miettinen, J., Shi, C. and Liew, S.C. 2016. Land cover distribution in the peatlands of Peninsular Malaysia,\n",
            "Sumatra and Borneo in 2015 with changes since 1990. Global Ecology and Conservation 6: 67-78.\n",
            "Pacifici, M., Santini, L., Di Marco, M., Baisero, D., Francucci, L., Grottolo Marasini, G., Visconti, P. and\n",
            "Rondinini, C. 2013. Generation length for mammals. Nature Conservation 5: 87–94.\n",
            "Wells, K.L. 2005. Impacts of rainforest logging on non-volant small mammal assemblages in Borneo.\n",
            "Fakultat fur Naturwissenschaften der Universitat Ulm.\n",
            "Citation\n",
            "Juman, M.M. & Sargis, E.J. 2023. Tupaia tana. The IUCN Red List of Threatened Species 2023:\n",
            "e.T41501A229492631. https://dx.doi.org/10.2305/IUCN.UK.2023-1.RLTS.T41501A229492631.en\n",
            "Disclaimer\n",
            "To make use of this information, please check the Terms of Use.\n",
            "External Resources\n",
            "For Supplementary Material, and for Images and External Links to Additional Information, please see the\n",
            "Red List website.\n",
            "© The IUCN Red List of Threatened Species: Tupaia tana – published in 2023. 5\n",
            "https://dx.doi.org/10.2305/IUCN.UK.2023-1.RLTS.T41501A229492631.enAppendix\n",
            "Habitats\n",
            "(http://www.iucnredlist.org/technical-documents/classification-schemes)\n",
            "Major\n",
            "Habitat Season Suitability\n",
            "Importance?\n",
            "1. Forest -> 1.6. Forest - Subtropical/Tropical Moist Lowland - Suitable -\n",
            "1. Forest -> 1.9. Forest - Subtropical/Tropical Moist Montane - Suitable -\n",
            "14. Artificial/Terrestrial -> 14.3. Artificial/Terrestrial - Plantations - Marginal -\n",
            "Threats\n",
            "(http://www.iucnredlist.org/technical-documents/classification-schemes)\n",
            "Threat Timing Scope Severity\n",
            "2. Agriculture & aquaculture -> 2.1. Annual & perennial non- Ongoing - -\n",
            "timber crops -> 2.1.4. Scale Unknown/Unrecorded\n",
            "Stresses: 1. Ecosystem stresses -> 1.1. Ecosystem conversion\n",
            "1. Ecosystem stresses -> 1.2. Ecosystem degradation\n",
            "5. Biological resource use -> 5.3. Logging & wood harvesting Ongoing - -\n",
            "-> 5.3.5. Motivation Unknown/Unrecorded\n",
            "Stresses: 1. Ecosystem stresses -> 1.2. Ecosystem degradation\n",
            "Conservation Actions in Place\n",
            "(http://www.iucnredlist.org/technical-documents/classification-schemes)\n",
            "Conservation Action in Place\n",
            "In-place land/water protection\n",
            "Conservation sites identified: Yes, over entire range\n",
            "Occurs in at least one protected area: Yes\n",
            "In-place education\n",
            "Included in international legislation: Yes\n",
            "Subject to any international management / trade controls: Yes\n",
            "Conservation Actions Needed\n",
            "(http://www.iucnredlist.org/technical-documents/classification-schemes)\n",
            "Conservation Action Needed Notes\n",
            "2. Land/water management -> 2.1. Site/area management -\n",
            "© The IUCN Red List of Threatened Species: Tupaia tana – published in 2023. 6\n",
            "https://dx.doi.org/10.2305/IUCN.UK.2023-1.RLTS.T41501A229492631.enAdditional Data Fields\n",
            "Distribution\n",
            "Estimated extent of occurrence (EOO) (km²): 2820577\n",
            "Lower elevation limit (m): 0\n",
            "Upper elevation limit (m): 1,500\n",
            "Population\n",
            "Population severely fragmented: No\n",
            "Habitats and Ecology\n",
            "Generation Length (years): 4\n",
            "© The IUCN Red List of Threatened Species: Tupaia tana – published in 2023. 7\n",
            "https://dx.doi.org/10.2305/IUCN.UK.2023-1.RLTS.T41501A229492631.enThe IUCN Red List of Threatened Species™\n",
            "ISSN 2307-8235 (online)\n",
            "IUCN 2023: T41501A229492631\n",
            "Scope(s): Global\n",
            "Language: English\n",
            "The IUCN Red List Partnership\n",
            "The IUCN Red List of Threatened Species™ is produced and managed by the IUCN Global Species\n",
            "Programme, the IUCN Species Survival Commission (SSC) and The IUCN Red List Partnership.\n",
            "The IUCN Red List Partners are: ABQ BioPark; Arizona State University; BirdLife International; Botanic\n",
            "Gardens Conservation International; Conservation International; Missouri Botanical Garden;\n",
            "NatureServe; Re:wild; Royal Botanic Gardens, Kew; Sapienza University of Rome; Texas A&M University;\n",
            "and Zoological Society of London.\n",
            "THE IUCN RED LIST OF THREATENED SPECIES™\n",
            "© The IUCN Red List of Threatened Species: Tupaia tana – published in 2023. 8\n",
            "https://dx.doi.org/10.2305/IUCN.UK.2023-1.RLTS.T41501A229492631.en\n"
          ]
        }
      ]
    },
    {
      "cell_type": "code",
      "source": [
        "# import os\n",
        "# import re\n",
        "# import pdfplumber\n",
        "# import pandas as pd\n",
        "\n",
        "def extract_data_from_pdf(pdf_path):\n",
        "    # Open the PDF file\n",
        "    with pdfplumber.open(pdf_path) as pdf:\n",
        "        text = ''\n",
        "\n",
        "        # Loop through all the pages and extract text\n",
        "        for page in pdf.pages:\n",
        "            text += page.extract_text()\n",
        "\n",
        "    # Extract the fields using regular expressions\n",
        "    try:\n",
        "        scientific_name = re.search(r'^(Scientific Name:|Taxon Name:)\\s*(.*)', text, re.MULTILINE).group(2).strip()\n",
        "    except:\n",
        "        scientific_name = ''\n",
        "    try:\n",
        "        taxonomy = re.search(r'^Animalia.*', text, re.MULTILINE).group(0).strip()\n",
        "    except:\n",
        "        taxonomy = ''\n",
        "    try:\n",
        "        red_list_category = re.search(r'Red List Category & Criteria:\\s*(.*)', text).group(1).strip()\n",
        "    except:\n",
        "        red_list_category = ''\n",
        "    try:\n",
        "        date_assessed = re.search(r'Date Assessed:\\s*(.*)', text).group(1).strip()\n",
        "    except:\n",
        "        date_assessed = ''\n",
        "    try:\n",
        "        year_published = re.search(r'Year Published:\\s*(.*)', text).group(1).strip()\n",
        "    except:\n",
        "        year_published = ''\n",
        "    try:\n",
        "        current_population_trend = re.search(r'Current Population Trend:\\s*(.*)', text).group(1).strip()\n",
        "    except:\n",
        "        current_population_trend = ''\n",
        "    try:\n",
        "        systems = re.search(r'Systems:\\s*(.*)', text).group(1).strip()\n",
        "    except:\n",
        "        systems = ''\n",
        "    try:\n",
        "        range_description = re.search(r'Range Description:\\s*(.*?)[.]\\s', text, re.DOTALL).group(1).strip()\n",
        "    except:\n",
        "        range_description = ''\n",
        "    try:\n",
        "       habitat_and_ecology = re.search(r'Habitat and Ecology\\s*(.*?)[.]\\s', text, re.DOTALL).group(1).strip()\n",
        "    except:\n",
        "        habitat_and_ecology = ''\n",
        "    try:\n",
        "        threats = re.search(r'Threats\\s*(.*?)[.]\\s', text, re.DOTALL).group(1).strip()\n",
        "    except:\n",
        "        threats = ''\n",
        "\n",
        "    # Return the extracted data as a dictionary\n",
        "    return {\n",
        "        \"Scientific Name\": scientific_name,\n",
        "        \"Taxonomy\": taxonomy,\n",
        "        \"Red List Category & Criteria\": red_list_category,\n",
        "        \"Date Assessed\": date_assessed,\n",
        "        \"Year Published\": year_published,\n",
        "        \"Current Population Trend\": current_population_trend,\n",
        "        \"Systems\": systems,\n",
        "        \"Range Description\": range_description,\n",
        "        \"Habitat and Ecology\": habitat_and_ecology,\n",
        "        \"Threats\": threats\n",
        "    }\n",
        "\n"
      ],
      "metadata": {
        "id": "nAwBtC0ePURk"
      },
      "execution_count": 93,
      "outputs": []
    },
    {
      "cell_type": "code",
      "source": [
        "extract_data_from_pdf('iucn_reports/215090780')"
      ],
      "metadata": {
        "colab": {
          "base_uri": "https://localhost:8080/"
        },
        "id": "M33EtLHhUu4K",
        "outputId": "1e031c9b-0912-40e2-fd8b-8eaf316acd59"
      },
      "execution_count": 94,
      "outputs": [
        {
          "output_type": "execute_result",
          "data": {
            "text/plain": [
              "{'Scientific Name': 'Presbytis femoralis (Martin, 1838)',\n",
              " 'Taxonomy': 'Animalia Chordata Mammalia Primates Cercopithecidae',\n",
              " 'Red List Category & Criteria': 'Critically Endangered C2a(i) ver 3.1',\n",
              " 'Date Assessed': 'February 18, 2022',\n",
              " 'Year Published': '2022',\n",
              " 'Current Population Trend': 'Decreasing',\n",
              " 'Systems': 'Terrestrial',\n",
              " 'Range Description': 'This species is found in southern Peninsular Malaysia (from extreme south of Pahang State into Johor\\nState) and the Republic of Singapore',\n",
              " 'Habitat and Ecology': '(see Appendix for additional information)\\nThis species is found in taller trees of swampy peat forests in Peninsular Malaysia, while in Singapore it is\\nfound in primary, secondary, and swamp forests (Lucas et al',\n",
              " 'Threats': '(see Appendix for additional information)\\nDeforestation and habitat conversion continue to be the major threats to this species'}"
            ]
          },
          "metadata": {},
          "execution_count": 94
        }
      ]
    },
    {
      "cell_type": "code",
      "source": [
        "# ! ls iucn_reports/"
      ],
      "metadata": {
        "id": "xnqXGl60aemM"
      },
      "execution_count": 88,
      "outputs": []
    },
    {
      "cell_type": "code",
      "source": [
        "# print(text)"
      ],
      "metadata": {
        "id": "7hC_717ebeMJ"
      },
      "execution_count": 82,
      "outputs": []
    },
    {
      "cell_type": "code",
      "source": [
        "extract_data_from_pdf('iucn_reports/210442893')\n",
        "# extract_data_from_pdf('iucn_reports/21286959 ')\n",
        "# extract_data_from_pdf('iucn_reports/17971958')"
      ],
      "metadata": {
        "colab": {
          "base_uri": "https://localhost:8080/"
        },
        "id": "gCG4sa24WUb2",
        "outputId": "9b4d6340-9a08-4ff9-bbed-69ac95ad46bc"
      },
      "execution_count": 97,
      "outputs": [
        {
          "output_type": "execute_result",
          "data": {
            "text/plain": [
              "{'Scientific Name': 'Rhynchocyon petersi Bocage, 1880',\n",
              " 'Taxonomy': 'Animalia Chordata Mammalia Macroscelidea Macroscelididae',\n",
              " 'Red List Category & Criteria': 'Least Concern ver 3.1',\n",
              " 'Date Assessed': 'January 31, 2016',\n",
              " 'Year Published': '2016',\n",
              " 'Current Population Trend': 'Decreasing',\n",
              " 'Systems': 'Terrestrial',\n",
              " 'Range Description': 'An East African endemic ranging in coastal forests from about 3°60’S in south-eastern Kenya to about\\n7°40’S in Tanzania, just north of the Rufiji River, and in the Eastern Arc Mountains, where it is reliably\\nrecorded from North and South Pare (Stanley et al',\n",
              " 'Habitat and Ecology': '(see Appendix for additional information)\\nRelatively little is known about the biology of the Black and Rufous Sengi because no detailed field\\nstudies have been completed',\n",
              " 'Threats': '(see Appendix for additional information)\\nFragmentation and degradation of forested habitats due to urban and agricultural expansion is the\\n© The IUCN Red List of Threatened Species: Rhynchocyon petersi – published in 2016'}"
            ]
          },
          "metadata": {},
          "execution_count": 97
        }
      ]
    },
    {
      "cell_type": "markdown",
      "source": [
        "# Needs some cleaning in the dictionary values before saving as csv :)"
      ],
      "metadata": {
        "id": "wde33bn-e34x"
      }
    },
    {
      "cell_type": "markdown",
      "source": [
        "# Work From Here.."
      ],
      "metadata": {
        "id": "vJ9_bKS2fBEY"
      }
    },
    {
      "cell_type": "code",
      "source": [],
      "metadata": {
        "id": "Jd889-5Oe3gw"
      },
      "execution_count": null,
      "outputs": []
    },
    {
      "cell_type": "code",
      "source": [
        "def process_all_pdfs_in_directory(directory_path, output_csv):\n",
        "    # List to hold all the extracted data\n",
        "    all_data = []\n",
        "\n",
        "    # Iterate through all files in the directory\n",
        "    for filename in os.listdir(directory_path):\n",
        "        if filename.endswith(\".pdf\"):\n",
        "            pdf_path = os.path.join(directory_path, filename)\n",
        "            print(f\"Processing {pdf_path}...\")\n",
        "            data = extract_data_from_pdf(pdf_path)\n",
        "            all_data.append(data)\n",
        "\n",
        "    # Create a DataFrame from the extracted data\n",
        "    df = pd.DataFrame(all_data)\n",
        "\n",
        "    # Save the DataFrame to a CSV file\n",
        "    df.to_csv(output_csv, index=False)\n",
        "    print(f\"Data saved to {output_csv}\")\n",
        "\n",
        "# Example usage:\n",
        "# Set the path to the directory containing the PDFs and the output CSV file path\n",
        "directory_path = 'iucn_reports/'  # Replace with your PDF directory\n",
        "output_csv = 'iucn_extracted_data.csv'\n",
        "\n",
        "# Process all PDFs and save the results in a CSV file\n",
        "process_all_pdfs_in_directory(directory_path, output_csv)\n"
      ],
      "metadata": {
        "id": "vhw-lq2EUmOW"
      },
      "execution_count": null,
      "outputs": []
    }
  ],
  "metadata": {
    "colab": {
      "provenance": [],
      "authorship_tag": "ABX9TyNdWMk/T5tP3ngM+JKR3QDf",
      "include_colab_link": true
    },
    "kernelspec": {
      "display_name": "Python 3",
      "name": "python3"
    },
    "language_info": {
      "name": "python"
    }
  },
  "nbformat": 4,
  "nbformat_minor": 0
}